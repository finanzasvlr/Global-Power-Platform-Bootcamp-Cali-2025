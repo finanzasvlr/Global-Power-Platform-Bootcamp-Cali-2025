{
 "cells": [
  {
   "cell_type": "markdown",
   "metadata": {},
   "source": [
    "<div style=\"display: flex; justify-content: center;\">\n",
    "    <img src=\"00_Logo_Finanzas_VLR_Verde_y_negro.png\" alt=\"Texto alternativo\" width=\"400\"/>\n",
    "</div>"
   ]
  },
  {
   "cell_type": "markdown",
   "metadata": {},
   "source": [
    "#  Conectar Notebook de Jupyter (Python) a Datamart SQL de Power BI"
   ]
  },
  {
   "cell_type": "markdown",
   "metadata": {
    "id": "jEO4Q0fhv4Ri"
   },
   "source": [
    "## 1.  Configuración de librerías y paquetes (no hagas nada aquí)"
   ]
  },
  {
   "cell_type": "markdown",
   "metadata": {},
   "source": [
    "Instalamos las librerías o paquetes tradicionales y para conexiones a base de datos"
   ]
  },
  {
   "cell_type": "code",
   "execution_count": 1,
   "metadata": {
    "colab": {
     "base_uri": "https://localhost:8080/"
    },
    "executionInfo": {
     "elapsed": 4508,
     "status": "ok",
     "timestamp": 1729273855192,
     "user": {
      "displayName": "Contacto Finanzas VLR",
      "userId": "04776860676438155039"
     },
     "user_tz": 300
    },
    "id": "ECt_6B70v4Rl",
    "outputId": "421e0c06-a5e7-4d77-b999-0b14d77ca463"
   },
   "outputs": [],
   "source": [
    "#Librería o paquetes estándar\n",
    "import pandas as pd                                             # Importar pandas para manipulación de datos\n",
    "import msal                                                     # Importar msal para autenticación\n",
    "from sqlalchemy import create_engine                            # Importar create_engine para conexión a base de datos\n",
    "from urllib.parse import quote_plus                             # Importar quote_plus para codificar la contraseña"
   ]
  },
  {
   "cell_type": "markdown",
   "metadata": {
    "id": "hy1NeGVpv4Ro"
   },
   "source": [
    "##  2.  Conexión a DataMart Microsoft"
   ]
  },
  {
   "cell_type": "markdown",
   "metadata": {},
   "source": [
    "-  Al contar con licenciamiento de Power BI Premium por usuario, se construyó un DataMart, el cual permite realizar el proceso ETL de las variables a utilizar en el presente modelo.  \n",
    "-  La ventaja de este tipo de licenciamiento, es que su funcionamiento permite generar consultas SQL por un pago periódico mensual de 20 USD (feb 2025) y con capacidad máxima de 100 GB por modelo de datos: capacidad mas que suficiente para el presente proyecto.\n",
    "-  Al contar con permisos de administración de Azure Active Directory se configuró conexión para lograr desarrollar en cuadernos de jupyter.  Dicha configuración incluyó validar temas de client_id, tenant_id, app, token, servidor, database, driver, entre otros. "
   ]
  },
  {
   "cell_type": "markdown",
   "metadata": {},
   "source": [
    "### 2.1.   Configura tu Client ID y tu Tenant ID"
   ]
  },
  {
   "cell_type": "code",
   "execution_count": null,
   "metadata": {},
   "outputs": [],
   "source": [
    "# Configura los detalles de la aplicación AADa\n",
    "client_id = 'xxxx'  # Tu Client ID registrado en AAD (Azure Active Directory)\n",
    "tenant_id = 'xxxx'  # Tu Tenant ID en AAD (Azure Active Directory)"
   ]
  },
  {
   "cell_type": "markdown",
   "metadata": {},
   "source": [
    "### 2.2. Configuracion de conexión (no hagas nada aquí)"
   ]
  },
  {
   "cell_type": "code",
   "execution_count": 3,
   "metadata": {},
   "outputs": [],
   "source": [
    "authority = f'https://login.microsoftonline.com/{tenant_id}'\n",
    "\n",
    "# Scope para acceder a Power BI API (Datamarts)\n",
    "scope = [\"https://analysis.windows.net/powerbi/api/.default\"]\n",
    "\n",
    "# Autentica y obtiene el token de acceso usando MSAL (Microsoft Authentication Library)\n",
    "app = msal.PublicClientApplication(client_id, authority=authority)\n",
    "token_response = app.acquire_token_interactive(scopes=scope)\n",
    "\n",
    "if 'access_token' in token_response:\n",
    "    access_token = token_response['access_token']\n",
    "else:\n",
    "    raise ValueError(\"No se pudo obtener el token de acceso. Verifica las credenciales y la configuración de la aplicación.\")"
   ]
  },
  {
   "cell_type": "markdown",
   "metadata": {},
   "source": [
    "### 2.3.  Configura tu cadena de conexión de datamart"
   ]
  },
  {
   "cell_type": "code",
   "execution_count": null,
   "metadata": {},
   "outputs": [],
   "source": [
    "# Configura la conexión a la base de datos en Power BI Datamart\n",
    "server = 'xxxx' #La cadena de conexión de tu datamart"
   ]
  },
  {
   "cell_type": "markdown",
   "metadata": {},
   "source": [
    "### 2.4.  Configuración de conexión (no hagas nada aquí)"
   ]
  },
  {
   "cell_type": "code",
   "execution_count": 5,
   "metadata": {},
   "outputs": [],
   "source": [
    "database = 'datamart' #Dejar *Datamart* por defecto\n",
    "driver = 'ODBC Driver 17 for SQL Server'\n",
    "\n",
    "# Crear cadena de conexión ODBC con Authentication explícita\n",
    "conn_str = (\n",
    "    f\"DRIVER={{{driver}}};\"\n",
    "    f\"SERVER={server};\"\n",
    "    f\"DATABASE={database};\"\n",
    "    f\"Authentication=ActiveDirectoryInteractive;\"\n",
    "    f\"AccessToken={access_token};\"\n",
    ")\n",
    "\n",
    "# Codificar la cadena de conexión para SQLAlchemy\n",
    "conn_str = quote_plus(conn_str)\n",
    "connection_url = f\"mssql+pyodbc:///?odbc_connect={conn_str}\"\n",
    "\n",
    "# Cargar el motor SQLAlchemy\n",
    "engine = create_engine(connection_url)"
   ]
  },
  {
   "cell_type": "markdown",
   "metadata": {},
   "source": [
    "## 3.  EDA (Exploratoy Data Analysis)"
   ]
  },
  {
   "cell_type": "code",
   "execution_count": 6,
   "metadata": {
    "id": "asYQJ4cLv4Rp"
   },
   "outputs": [],
   "source": [
    "# Consulta SQL para obtener la tasa efectiva promedio ponderada de las colocaciones y los desembolsos por entidad financiera y por mes.\n",
    "query = \"\"\"\n",
    "SELECT * \n",
    "FROM\n",
    "    Consulta\n",
    " \"\"\""
   ]
  },
  {
   "cell_type": "code",
   "execution_count": 7,
   "metadata": {
    "id": "xqqmtdHmv4Rp",
    "outputId": "1bd0e03c-58dd-4eac-808f-343a70022484"
   },
   "outputs": [
    {
     "name": "stdout",
     "output_type": "stream",
     "text": [
      "<class 'pandas.core.frame.DataFrame'>\n",
      "RangeIndex: 835 entries, 0 to 834\n",
      "Data columns (total 5 columns):\n",
      " #   Column                 Non-Null Count  Dtype  \n",
      "---  ------                 --------------  -----  \n",
      " 0   fecha                  835 non-null    object \n",
      " 1   indice                 835 non-null    float64\n",
      " 2   variacion_anual        835 non-null    float64\n",
      " 3   variacion_mensual      835 non-null    float64\n",
      " 4   variacion_ano_corrido  835 non-null    float64\n",
      "dtypes: float64(4), object(1)\n",
      "memory usage: 32.7+ KB\n"
     ]
    }
   ],
   "source": [
    "# Ejecuta la consulta y carga los datos en un DataFrame de pandas\n",
    "df = pd.read_sql_query(query, engine)\n",
    "df.info()"
   ]
  },
  {
   "cell_type": "code",
   "execution_count": 8,
   "metadata": {},
   "outputs": [
    {
     "data": {
      "text/html": [
       "<div>\n",
       "<style scoped>\n",
       "    .dataframe tbody tr th:only-of-type {\n",
       "        vertical-align: middle;\n",
       "    }\n",
       "\n",
       "    .dataframe tbody tr th {\n",
       "        vertical-align: top;\n",
       "    }\n",
       "\n",
       "    .dataframe thead th {\n",
       "        text-align: right;\n",
       "    }\n",
       "</style>\n",
       "<table border=\"1\" class=\"dataframe\">\n",
       "  <thead>\n",
       "    <tr style=\"text-align: right;\">\n",
       "      <th></th>\n",
       "      <th>fecha</th>\n",
       "      <th>indice</th>\n",
       "      <th>variacion_anual</th>\n",
       "      <th>variacion_mensual</th>\n",
       "      <th>variacion_ano_corrido</th>\n",
       "    </tr>\n",
       "  </thead>\n",
       "  <tbody>\n",
       "    <tr>\n",
       "      <th>820</th>\n",
       "      <td>2023-11-30</td>\n",
       "      <td>137.09</td>\n",
       "      <td>10.15</td>\n",
       "      <td>0.47</td>\n",
       "      <td>8.78</td>\n",
       "    </tr>\n",
       "    <tr>\n",
       "      <th>821</th>\n",
       "      <td>2023-12-31</td>\n",
       "      <td>137.72</td>\n",
       "      <td>9.28</td>\n",
       "      <td>0.45</td>\n",
       "      <td>9.28</td>\n",
       "    </tr>\n",
       "    <tr>\n",
       "      <th>822</th>\n",
       "      <td>2024-01-31</td>\n",
       "      <td>138.98</td>\n",
       "      <td>8.35</td>\n",
       "      <td>0.92</td>\n",
       "      <td>0.92</td>\n",
       "    </tr>\n",
       "    <tr>\n",
       "      <th>823</th>\n",
       "      <td>2024-02-29</td>\n",
       "      <td>140.49</td>\n",
       "      <td>7.74</td>\n",
       "      <td>1.09</td>\n",
       "      <td>2.01</td>\n",
       "    </tr>\n",
       "    <tr>\n",
       "      <th>824</th>\n",
       "      <td>2024-03-31</td>\n",
       "      <td>141.48</td>\n",
       "      <td>7.36</td>\n",
       "      <td>0.70</td>\n",
       "      <td>2.73</td>\n",
       "    </tr>\n",
       "    <tr>\n",
       "      <th>825</th>\n",
       "      <td>2024-04-30</td>\n",
       "      <td>142.32</td>\n",
       "      <td>7.16</td>\n",
       "      <td>0.59</td>\n",
       "      <td>3.34</td>\n",
       "    </tr>\n",
       "    <tr>\n",
       "      <th>826</th>\n",
       "      <td>2024-05-31</td>\n",
       "      <td>142.92</td>\n",
       "      <td>7.16</td>\n",
       "      <td>0.43</td>\n",
       "      <td>3.78</td>\n",
       "    </tr>\n",
       "    <tr>\n",
       "      <th>827</th>\n",
       "      <td>2024-06-30</td>\n",
       "      <td>143.38</td>\n",
       "      <td>7.18</td>\n",
       "      <td>0.32</td>\n",
       "      <td>4.12</td>\n",
       "    </tr>\n",
       "    <tr>\n",
       "      <th>828</th>\n",
       "      <td>2024-07-31</td>\n",
       "      <td>143.67</td>\n",
       "      <td>6.86</td>\n",
       "      <td>0.20</td>\n",
       "      <td>4.32</td>\n",
       "    </tr>\n",
       "    <tr>\n",
       "      <th>829</th>\n",
       "      <td>2024-08-31</td>\n",
       "      <td>143.67</td>\n",
       "      <td>6.12</td>\n",
       "      <td>0.00</td>\n",
       "      <td>4.33</td>\n",
       "    </tr>\n",
       "    <tr>\n",
       "      <th>830</th>\n",
       "      <td>2024-09-30</td>\n",
       "      <td>144.02</td>\n",
       "      <td>5.81</td>\n",
       "      <td>0.24</td>\n",
       "      <td>4.58</td>\n",
       "    </tr>\n",
       "    <tr>\n",
       "      <th>831</th>\n",
       "      <td>2024-10-31</td>\n",
       "      <td>143.83</td>\n",
       "      <td>5.41</td>\n",
       "      <td>-0.13</td>\n",
       "      <td>4.44</td>\n",
       "    </tr>\n",
       "    <tr>\n",
       "      <th>832</th>\n",
       "      <td>2024-11-30</td>\n",
       "      <td>144.22</td>\n",
       "      <td>5.20</td>\n",
       "      <td>0.27</td>\n",
       "      <td>4.72</td>\n",
       "    </tr>\n",
       "    <tr>\n",
       "      <th>833</th>\n",
       "      <td>2024-12-31</td>\n",
       "      <td>144.88</td>\n",
       "      <td>5.20</td>\n",
       "      <td>0.46</td>\n",
       "      <td>5.20</td>\n",
       "    </tr>\n",
       "    <tr>\n",
       "      <th>834</th>\n",
       "      <td>2025-01-31</td>\n",
       "      <td>146.24</td>\n",
       "      <td>5.22</td>\n",
       "      <td>0.94</td>\n",
       "      <td>0.94</td>\n",
       "    </tr>\n",
       "  </tbody>\n",
       "</table>\n",
       "</div>"
      ],
      "text/plain": [
       "          fecha  indice  variacion_anual  variacion_mensual  \\\n",
       "820  2023-11-30  137.09            10.15               0.47   \n",
       "821  2023-12-31  137.72             9.28               0.45   \n",
       "822  2024-01-31  138.98             8.35               0.92   \n",
       "823  2024-02-29  140.49             7.74               1.09   \n",
       "824  2024-03-31  141.48             7.36               0.70   \n",
       "825  2024-04-30  142.32             7.16               0.59   \n",
       "826  2024-05-31  142.92             7.16               0.43   \n",
       "827  2024-06-30  143.38             7.18               0.32   \n",
       "828  2024-07-31  143.67             6.86               0.20   \n",
       "829  2024-08-31  143.67             6.12               0.00   \n",
       "830  2024-09-30  144.02             5.81               0.24   \n",
       "831  2024-10-31  143.83             5.41              -0.13   \n",
       "832  2024-11-30  144.22             5.20               0.27   \n",
       "833  2024-12-31  144.88             5.20               0.46   \n",
       "834  2025-01-31  146.24             5.22               0.94   \n",
       "\n",
       "     variacion_ano_corrido  \n",
       "820                   8.78  \n",
       "821                   9.28  \n",
       "822                   0.92  \n",
       "823                   2.01  \n",
       "824                   2.73  \n",
       "825                   3.34  \n",
       "826                   3.78  \n",
       "827                   4.12  \n",
       "828                   4.32  \n",
       "829                   4.33  \n",
       "830                   4.58  \n",
       "831                   4.44  \n",
       "832                   4.72  \n",
       "833                   5.20  \n",
       "834                   0.94  "
      ]
     },
     "execution_count": 8,
     "metadata": {},
     "output_type": "execute_result"
    }
   ],
   "source": [
    "df.tail(15)"
   ]
  }
 ],
 "metadata": {
  "colab": {
   "provenance": []
  },
  "kernelspec": {
   "display_name": "base",
   "language": "python",
   "name": "python3"
  },
  "language_info": {
   "codemirror_mode": {
    "name": "ipython",
    "version": 3
   },
   "file_extension": ".py",
   "mimetype": "text/x-python",
   "name": "python",
   "nbconvert_exporter": "python",
   "pygments_lexer": "ipython3",
   "version": "3.10.9"
  }
 },
 "nbformat": 4,
 "nbformat_minor": 0
}
